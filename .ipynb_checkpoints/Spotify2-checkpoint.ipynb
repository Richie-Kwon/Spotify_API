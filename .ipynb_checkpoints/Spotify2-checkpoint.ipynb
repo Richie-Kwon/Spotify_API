{
 "cells": [
  {
   "cell_type": "code",
   "execution_count": 1,
   "metadata": {},
   "outputs": [],
   "source": [
    "import sys\n",
    "import requests\n",
    "import base64 # encoding \n",
    "import json \n",
    "import logging # logging control \n",
    "import pymysql"
   ]
  },
  {
   "cell_type": "code",
   "execution_count": 2,
   "metadata": {},
   "outputs": [],
   "source": [
    "client_id = \"7813c57a68b84597bf3125042a12a347\"\n",
    "client_secret = \"fb5621eca9dc491fbabb641f035188be\""
   ]
  },
  {
   "cell_type": "code",
   "execution_count": 3,
   "metadata": {},
   "outputs": [],
   "source": [
    "# pymysql parameters\n",
    "host=''\n",
    "port=3306 \n",
    "username='Richie'\n",
    "database='production'\n",
    "password=''"
   ]
  },
  {
   "cell_type": "code",
   "execution_count": 4,
   "metadata": {},
   "outputs": [
    {
     "name": "stdout",
     "output_type": "stream",
     "text": [
      "(('people',),)\n"
     ]
    },
    {
     "ename": "SystemExit",
     "evalue": "0",
     "output_type": "error",
     "traceback": [
      "An exception has occurred, use %tb to see the full traceback.\n",
      "\u001b[0;31mSystemExit\u001b[0m\u001b[0;31m:\u001b[0m 0\n"
     ]
    },
    {
     "name": "stderr",
     "output_type": "stream",
     "text": [
      "/opt/anaconda3/lib/python3.7/site-packages/IPython/core/interactiveshell.py:3339: UserWarning: To exit: use 'exit', 'quit', or Ctrl-D.\n",
      "  warn(\"To exit: use 'exit', 'quit', or Ctrl-D.\", stacklevel=1)\n"
     ]
    }
   ],
   "source": [
    "def main():\n",
    "    \n",
    "    \n",
    "    conn = pymysql.connect(host, user=username, passwd=password, db=database, port=port, use_unicode=True, charset='utf8')\n",
    "    cursor = conn.cursor()\n",
    "    #print('Success')\n",
    "    #sys.exit(0)\n",
    "    cursor.execute('SHOW TABLES')\n",
    "    print(cursor.fetchall())\n",
    "    \n",
    "    sys.exit(0)\n",
    "\n",
    "    headers = get_headers(client_id, client_secret)\n",
    "\n",
    "    ## Spotify Search API\n",
    "    params = {\n",
    "        \"q\": \"BTS\", # query to BTS\n",
    "        \"type\": \"artist\",\n",
    "        \"limit\": \"5\" # limit only 5 \n",
    "    }\n",
    "\n",
    "\n",
    "    r = requests.get(\"https://api.spotify.com/v1/search\", params=params, headers=headers)\n",
    "    \n",
    "    try:\n",
    "        r = requests.get(\"https://api.spotify.com/v1/search\", params=params, headers=headers)\n",
    "    \n",
    "    except:\n",
    "        logging.error(r.text)\n",
    "        sys.exit(1)\n",
    "        \n",
    "    r = requests.get(\"https://api.spotify.com/v1/search\", params=params, headers=headers)\n",
    "\n",
    "    if r.status_code != 200: # normal status\n",
    "        logging.error(r.text)\n",
    "\n",
    "        if r.status_code == 429: # time intervals between requests \n",
    "\n",
    "            retry_after = json.loads(r.headers)['Retry-After']\n",
    "            time.sleep(int(retry_after))\n",
    "\n",
    "            r = requests.get(\"https://api.spotify.com/v1/search\", params=params, headers=headers)\n",
    "\n",
    "        ## access_token expired\n",
    "        elif r.status_code == 401: # status(401) means 1 hour past, new token is required \n",
    "            \n",
    "            headers = get_headers(client_id, client_secret)\n",
    "            r = requests.get(\"https://api.spotify.com/v1/search\", params=params, headers=headers)\n",
    "\n",
    "        else:\n",
    "            sys.exit(1)     \n",
    "\n",
    "    #print(r.status_code)\n",
    "    #print(r.text)\n",
    "    #print(r.headers)\n",
    "    #sys.exit(0)\n",
    "    # 3Nrfpe0tUJi4K4DXYWgMUX > BTS album data\n",
    "    r = requests.get(\"https://api.spotify.com/v1/artists/3Nrfpe0tUJi4K4DXYWgMUX/albums\", headers=headers)\n",
    "\n",
    "    raw = json.loads(r.text)\n",
    "\n",
    "    total = raw['total']\n",
    "    offset = raw['offset']\n",
    "    limit = raw['limit']\n",
    "    next = raw['next']\n",
    "\n",
    "    albums = []\n",
    "    albums.extend(raw['items'])\n",
    "\n",
    "    ## extract all\n",
    "    while next: \n",
    "\n",
    "        r = requests.get(raw['next'], headers=headers)\n",
    "        raw = json.loads(r.text)\n",
    "        next = raw['next']\n",
    "        print(next)\n",
    "\n",
    "        albums.extend(raw['items'])\n",
    "        count = len(albums)\n",
    "\n",
    "    print(len(albums))\n",
    "    \n",
    "\n",
    "# how to get a token from spotify \n",
    "def get_headers(client_id, client_secret):\n",
    "\n",
    "    endpoint = \"https://accounts.spotify.com/api/token\"\n",
    "    encoded = base64.b64encode(\"{}:{}\".format(client_id, client_secret).encode('utf-8')).decode('ascii') #encoding client_id & client_secret\n",
    "\n",
    "    headers = {\n",
    "        \"Authorization\": \"Basic {}\".format(encoded)\n",
    "    }\n",
    "\n",
    "    grant = {\n",
    "        \"grant_type\": \"client_credentials\"\n",
    "    }\n",
    "\n",
    "    r = requests.post(endpoint, data=grant, headers=headers) #saving response \n",
    "    # print(r.text) > data type is str\n",
    "\n",
    "    access_token = json.loads(r.text)['access_token'] # converting type from str to dictionary by using json.load\n",
    "\n",
    "    headers = {\n",
    "        \"Authorization\": \"Bearer {}\".format(access_token)\n",
    "    }\n",
    "\n",
    "    return headers\n",
    "\n",
    "\n",
    "\n",
    "\n",
    "if __name__=='__main__':\n",
    "    main()"
   ]
  },
  {
   "cell_type": "code",
   "execution_count": null,
   "metadata": {},
   "outputs": [],
   "source": []
  }
 ],
 "metadata": {
  "kernelspec": {
   "display_name": "Python 3",
   "language": "python",
   "name": "python3"
  },
  "language_info": {
   "codemirror_mode": {
    "name": "ipython",
    "version": 3
   },
   "file_extension": ".py",
   "mimetype": "text/x-python",
   "name": "python",
   "nbconvert_exporter": "python",
   "pygments_lexer": "ipython3",
   "version": "3.7.6"
  }
 },
 "nbformat": 4,
 "nbformat_minor": 4
}
